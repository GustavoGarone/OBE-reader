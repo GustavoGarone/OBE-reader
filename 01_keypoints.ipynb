{
 "cells": [
  {
   "cell_type": "markdown",
   "id": "21af918f",
   "metadata": {},
   "source": [
    "# Aplica modelo yolo e prevê pontos chave\n",
    "\n",
    "pipeline:\n",
    "- IN:  recebe pasta de imagens (coleta imagens no diretório de maneira não recursiva)\n",
    "- 1. corta as imagens em 4 com os cantos principais\n",
    "- 2. aplica modelo YOLO trainado para prever os pontos\n",
    "- 3. monta as imagens novamente com os keypoints.\n",
    "- 4. prediz quarto keypoint quando necessário\n",
    "- OUT: dataset de imagens e labels para 4 pontos\n",
    "ps: esse demora ainda mais mesmo!"
   ]
  },
  {
   "cell_type": "code",
   "execution_count": null,
   "id": "81c72bef",
   "metadata": {},
   "outputs": [
    {
     "name": "stdout",
     "output_type": "stream",
     "text": [
      "Listing images\n",
      "Cropping images\n",
      "Predicitng YOLO\n",
      "Running YOLO inference...\n"
     ]
    }
   ],
   "source": [
    "from src.keypoints import run_corner_pose\n",
    "\n",
    "run_corner_pose(\n",
    "    images_dir = \"data/01--cleaned/19--out\",\n",
    "    model_path = f\"model/weights/best.pt\",\n",
    "    out_root   = f\"data/20--results/detected\",\n",
    "    tmp_root   = \"data/20--results/kptsTL-temp\",\n",
    "    factor=0.28,\n",
    "    conf=0.10,\n",
    "    imgsz=512,\n",
    ")"
   ]
  }
 ],
 "metadata": {
  "kernelspec": {
   "display_name": "Python 3",
   "language": "python",
   "name": "python3"
  },
  "language_info": {
   "codemirror_mode": {
    "name": "ipython",
    "version": 3
   },
   "file_extension": ".py",
   "mimetype": "text/x-python",
   "name": "python",
   "nbconvert_exporter": "python",
   "pygments_lexer": "ipython3",
   "version": "3.13.7"
  }
 },
 "nbformat": 4,
 "nbformat_minor": 5
}
