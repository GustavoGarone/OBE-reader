{
 "cells": [
  {
   "cell_type": "markdown",
   "id": "2c19ba1b",
   "metadata": {},
   "source": [
    "# Previsão das marcações dos alunos\n",
    "\n",
    "- IN:  recebe dataset com labels de keypoints\n",
    "- 1. aplica transformada de perspectiva para ajustar imagem\n",
    "- 2. configura template para achar elementos\n",
    "- 3. desloca pelas respostas buscando marcações\n",
    "- 4. reporta resultados com gráficos\n",
    "- OUT: CSV com os resultados e reports\n",
    "\n"
   ]
  },
  {
   "cell_type": "code",
   "execution_count": null,
   "id": "f7b1dc9b",
   "metadata": {},
   "outputs": [],
   "source": [
    "# CONFIGURAÇÃOS : cuidado ao mexer\n",
    "\n",
    "from src.core import WarpConfig,BlockSpec, DecodeThresholds\n",
    "\n",
    "WARP = WarpConfig(width=1400, height=2000)\n",
    "\n",
    "ID_BLOCK = BlockSpec(\n",
    "    x=100, y=1190, \n",
    "    w=370, h=530, \n",
    "    rows=10, cols=5, \n",
    "    pad=8\n",
    "    )        # 10 rows × N columns\n",
    "\n",
    "RESP_LEFT_BLOCK = BlockSpec(\n",
    "    x=635, y=1150, \n",
    "    w=330, h=580, \n",
    "    rows=5, cols=4, \n",
    "    pad=10\n",
    "    )      # 10 questions × 4 options\n",
    "\n",
    "RESP_RIGHT_BLOCK = BlockSpec(\n",
    "    x=1060, y=1150, \n",
    "    w=330, h=580, \n",
    "    rows=5, cols=4, \n",
    "    pad=10\n",
    "    )      # 10 questions × 4 options\n",
    "\n",
    "\n",
    "THR = DecodeThresholds(binarize=None, fill_frac=0.16)\n",
    "\n"
   ]
  },
  {
   "cell_type": "markdown",
   "id": "dbe6a8c3",
   "metadata": {},
   "source": [
    "## Loop principal"
   ]
  },
  {
   "cell_type": "code",
   "execution_count": null,
   "id": "8472292f",
   "metadata": {},
   "outputs": [],
   "source": [
    "from src.core import process_dataset\n",
    "\n",
    "model_name = \"keypointsTL_s_neg_aug\"\n",
    "root = f\"data/20--results/detected\"\n",
    "report_dir = f\"data/10--reports/results/detected\"\n",
    "\n",
    "\n",
    "process_dataset(\n",
    "    root=root,\n",
    "    report_dir=report_dir,\n",
    "    model_name=model_name,\n",
    "    warp=WARP, \n",
    "    id_block=ID_BLOCK, \n",
    "    resp_left_block=RESP_LEFT_BLOCK, \n",
    "    resp_right_block=RESP_RIGHT_BLOCK, \n",
    "    thr=THR\n",
    ")\n",
    "\n"
   ]
  },
  {
   "cell_type": "markdown",
   "id": "702b613b",
   "metadata": {},
   "source": [
    "## Avaliação visual"
   ]
  },
  {
   "cell_type": "code",
   "execution_count": null,
   "id": "73ccc316",
   "metadata": {},
   "outputs": [],
   "source": [
    "from src.core import inspect_results\n",
    "\n",
    "inspect_results(\n",
    "    root=f\"data/20--results/detected\",\n",
    "    results_dir=\"data/10--reports/results\",\n",
    "    limit=100,\n",
    "    warp=WARP, \n",
    "    id_block=ID_BLOCK, \n",
    "    resp_left_block=RESP_LEFT_BLOCK, \n",
    "    resp_right_block=RESP_RIGHT_BLOCK, \n",
    "    thr=THR\n",
    ")\n",
    "\n"
   ]
  },
  {
   "cell_type": "code",
   "execution_count": null,
   "id": "5457f710",
   "metadata": {},
   "outputs": [],
   "source": []
  }
 ],
 "metadata": {
  "kernelspec": {
   "display_name": "venv",
   "language": "python",
   "name": "python3"
  },
  "language_info": {
   "codemirror_mode": {
    "name": "ipython",
    "version": 3
   },
   "file_extension": ".py",
   "mimetype": "text/x-python",
   "name": "python",
   "nbconvert_exporter": "python",
   "pygments_lexer": "ipython3",
   "version": "3.10.12"
  }
 },
 "nbformat": 4,
 "nbformat_minor": 5
}
