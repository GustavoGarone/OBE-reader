{
 "cells": [
  {
   "cell_type": "markdown",
   "id": "21af918f",
   "metadata": {},
   "source": [
    "# Pipeline de limpeza de dados\n",
    "\n",
    "Objetivo: images enquadradas e padronizadas\n",
    "1. passa tudo para jpg\n",
    "2. classifica imagens com uma ou mais folhas\n",
    "3. corta: uma folha por imagem\n",
    "4. classifica primeira página\n",
    "\n",
    "\n",
    "cada célula produz um efeito nas pastas.\n",
    "após aplicar cada célula, cheque o efeito,\n",
    "e corriga manualmente pequenos erros."
   ]
  },
  {
   "cell_type": "markdown",
   "id": "3d78d8d9",
   "metadata": {},
   "source": [
    "## 1. para JPG\n",
    "\n",
    "_recebe imagens em qualquer formato, salva uma única pasta em formato jpg e tamanho padronizado._\n",
    "\n",
    "**sem requerimento manual**"
   ]
  },
  {
   "cell_type": "code",
   "execution_count": null,
   "id": "0da2667b",
   "metadata": {},
   "outputs": [],
   "source": [
    "from src.clean import triage_to_jpg\n",
    "\n",
    "triage_to_jpg(\n",
    "    src_dir=f\"data/01--cleaned/10--start\",\n",
    "    dst_dir=f\"data/01--cleaned/11--jpgs\", \n",
    "    size=(1200, 1680)\n",
    "    )"
   ]
  },
  {
   "cell_type": "markdown",
   "id": "647b27b8",
   "metadata": {},
   "source": [
    "# classifica folhas\n",
    "_classifica número de folhas por imagem baseado em aspecto das imagens padronizadas_\n",
    "\n",
    "exporta 3 classes:\n",
    "- `single`       : imagens com única folha\n",
    "- `side_by_side` : imagens com duas folhas lado a lado\n",
    "- `top_bottom`   : imagens com duas folhas cima-baixo\n",
    "\n",
    "**requerimento manual:**\n",
    "- após rodar a célula, cheque a saída e rotacione manualmente jpgs em ponta cabeça (principalmente no side_by_side)\n",
    "- após rodar a célula, certifique-se que as imagens foram classificadas corretamente. mova corretamente qualquer erro."
   ]
  },
  {
   "cell_type": "code",
   "execution_count": null,
   "id": "f2db7ff0",
   "metadata": {},
   "outputs": [],
   "source": [
    "from src.clean import classify_by_black\n",
    "\n",
    "classify_by_black(\n",
    "    src_jpg_dir = f\"data/01--cleaned/11--jpgs\",\n",
    "    out_root    = f\"data/01--cleaned/12--classes\",\n",
    "    thresholds  = [0.38, 0.62],\n",
    "    labels      = [\"single\", \"side_by_side\", \"top_bottom\"],\n",
    "    eval_size   = (240, 420),\n",
    "    border      = 0\n",
    ")\n"
   ]
  },
  {
   "cell_type": "markdown",
   "id": "af9b0072",
   "metadata": {},
   "source": [
    "## 3. crop classificas\n",
    "\n",
    "_corta as imagens baseado na classificações -> única A4 por imagem_\n",
    "\n",
    "**sem requerimento manual**"
   ]
  },
  {
   "cell_type": "code",
   "execution_count": null,
   "id": "7f082973",
   "metadata": {},
   "outputs": [],
   "source": [
    "from src.clean import crop_classified\n",
    "\n",
    "crop_classified(\n",
    "    src_root     = f\"data/01--cleaned/12--classes\",\n",
    "    out_dir      = f\"data/01--cleaned/13--cropped\",\n",
    "    out_size     = (1200, 1680),\n",
    "    tol          = 3,\n",
    "    max_pad_frac = .15,\n",
    "    center_gutter_frac = .04,\n",
    ")\n"
   ]
  },
  {
   "cell_type": "markdown",
   "id": "3246e76f",
   "metadata": {},
   "source": [
    "## 4. classifica primeira página\n",
    "\n",
    "_classifica as imagens se forem página 1 ou páginas extras, e salva._\n",
    "\n",
    "**requerimento manual:**\n",
    "- após rodar a célula, cheque qualquer incosistência na pasta de saída e mova erros para o local apropriado\n",
    "\n",
    "ps: esse demora mais mesmo!"
   ]
  },
  {
   "cell_type": "code",
   "execution_count": null,
   "id": "a09e506c",
   "metadata": {},
   "outputs": [],
   "source": [
    "from src.clean import classify_dir, debug_show\n",
    "\n",
    "classify_dir(\n",
    "    src_dir=f\"data/01--cleaned/13--cropped\", \n",
    "    out_root=f\"data/01--cleaned/19--out\", \n",
    "    save_masks=False\n",
    "    )\n",
    "\n",
    "debug_show(f\"data/01--cleaned/13--cropped/00636.jpg\")\n",
    "debug_show(f\"data/01--cleaned/13--cropped/00080_p2.jpg\")\n",
    "debug_show(f\"data/01--cleaned/13--cropped/04206_p7.jpg\")\n"
   ]
  },
  {
   "cell_type": "code",
   "execution_count": null,
   "id": "895a9ae7",
   "metadata": {},
   "outputs": [],
   "source": []
  }
 ],
 "metadata": {
  "kernelspec": {
   "display_name": "venv",
   "language": "python",
   "name": "python3"
  },
  "language_info": {
   "codemirror_mode": {
    "name": "ipython",
    "version": 3
   },
   "file_extension": ".py",
   "mimetype": "text/x-python",
   "name": "python",
   "nbconvert_exporter": "python",
   "pygments_lexer": "ipython3",
   "version": "3.10.12"
  }
 },
 "nbformat": 4,
 "nbformat_minor": 5
}
